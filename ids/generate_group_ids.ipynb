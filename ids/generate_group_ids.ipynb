{
 "cells": [
  {
   "cell_type": "code",
   "execution_count": 1,
   "metadata": {
    "collapsed": true
   },
   "outputs": [],
   "source": [
    "import json\n",
    "import shortuuid\n",
    "\n",
    "NUM_PARTICIPANTS = 200\n",
    "\n",
    "ids = {str(shortuuid.ShortUUID().random(length=12)): (i % 2 == 0) for i in range(NUM_PARTICIPANTS)}\n",
    "\n",
    "with open(\"ids2.json\", \"w\") as fp:\n",
    "    json.dump(ids, fp, indent=4)"
   ]
  },
  {
   "cell_type": "code",
   "execution_count": null,
   "outputs": [],
   "source": [],
   "metadata": {
    "collapsed": false
   }
  }
 ],
 "metadata": {
  "kernelspec": {
   "display_name": "Python 3",
   "language": "python",
   "name": "python3"
  },
  "language_info": {
   "codemirror_mode": {
    "name": "ipython",
    "version": 2
   },
   "file_extension": ".py",
   "mimetype": "text/x-python",
   "name": "python",
   "nbconvert_exporter": "python",
   "pygments_lexer": "ipython2",
   "version": "2.7.6"
  }
 },
 "nbformat": 4,
 "nbformat_minor": 0
}
