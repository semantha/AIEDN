{
 "cells": [
  {
   "cell_type": "code",
   "execution_count": 1,
   "metadata": {
    "collapsed": true
   },
   "outputs": [],
   "source": [
    "import ast\n",
    "from os.path import commonprefix\n",
    "from urllib.parse import urlparse, parse_qs\n",
    "\n",
    "import pandas as pd"
   ]
  },
  {
   "cell_type": "code",
   "execution_count": 2,
   "outputs": [
    {
     "name": "stderr",
     "output_type": "stream",
     "text": [
      "C:\\Users\\TomKaminski\\Documents\\AIEDN\\.venv\\Lib\\site-packages\\openpyxl\\styles\\stylesheet.py:226: UserWarning: Workbook contains no default style, apply openpyxl's default\n",
      "  warn(\"Workbook contains no default style, apply openpyxl's default\")\n"
     ]
    },
    {
     "data": {
      "text/plain": "                                                Name  \\\n0  Ableiten Übersicht, Ableitung Funktionen, Diff...   \n1  Ableiten Übersicht, Ableitung Funktionen, Diff...   \n2  Ableiten Übersicht, Ableitung Funktionen, Diff...   \n3  Ableiten Übersicht, Ableitung Funktionen, Diff...   \n4  Ableiten Übersicht, Ableitung Funktionen, Diff...   \n\n                                             Content  \\\n0  Eine komplette Übersicht zum Thema Ableiten, A...   \n1  Ich habe unter der Rubrik Analysis erstmal ein...   \n2  Da geht es unter anderem um Differenzenprozent...   \n3  Da wird so die Einstimmung gemacht zu dem ganz...   \n4  Und jetzt kommt es darauf an, ob ihr in der Un...   \n\n                                                Tags  \\\n0  Differenziation, 11, Ableiten, Ableitung, Diff...   \n1  Ableiten, Differenzieren, Ableitung, Differenz...   \n2  11, Ableitung, Differenzieren, Ableiten, Diffe...   \n3  Ableitung, Differenzieren, 11, Differenziation...   \n4  Differenzieren, Ableitung, Ableiten, Differenz...   \n\n                                            Metadata  Context  Color  Comment  \n0  {'start': 0, 'end': 40, 'id': 'https://www.you...      NaN    NaN      NaN  \n1  {'start': 7, 'end': 48, 'id': 'https://www.you...      NaN    NaN      NaN  \n2  {'start': 13, 'end': 56, 'id': 'https://www.yo...      NaN    NaN      NaN  \n3  {'start': 19, 'end': 62, 'id': 'https://www.yo...      NaN    NaN      NaN  \n4  {'start': 26, 'end': 67, 'id': 'https://www.yo...      NaN    NaN      NaN  ",
      "text/html": "<div>\n<style scoped>\n    .dataframe tbody tr th:only-of-type {\n        vertical-align: middle;\n    }\n\n    .dataframe tbody tr th {\n        vertical-align: top;\n    }\n\n    .dataframe thead th {\n        text-align: right;\n    }\n</style>\n<table border=\"1\" class=\"dataframe\">\n  <thead>\n    <tr style=\"text-align: right;\">\n      <th></th>\n      <th>Name</th>\n      <th>Content</th>\n      <th>Tags</th>\n      <th>Metadata</th>\n      <th>Context</th>\n      <th>Color</th>\n      <th>Comment</th>\n    </tr>\n  </thead>\n  <tbody>\n    <tr>\n      <th>0</th>\n      <td>Ableiten Übersicht, Ableitung Funktionen, Diff...</td>\n      <td>Eine komplette Übersicht zum Thema Ableiten, A...</td>\n      <td>Differenziation, 11, Ableiten, Ableitung, Diff...</td>\n      <td>{'start': 0, 'end': 40, 'id': 'https://www.you...</td>\n      <td>NaN</td>\n      <td>NaN</td>\n      <td>NaN</td>\n    </tr>\n    <tr>\n      <th>1</th>\n      <td>Ableiten Übersicht, Ableitung Funktionen, Diff...</td>\n      <td>Ich habe unter der Rubrik Analysis erstmal ein...</td>\n      <td>Ableiten, Differenzieren, Ableitung, Differenz...</td>\n      <td>{'start': 7, 'end': 48, 'id': 'https://www.you...</td>\n      <td>NaN</td>\n      <td>NaN</td>\n      <td>NaN</td>\n    </tr>\n    <tr>\n      <th>2</th>\n      <td>Ableiten Übersicht, Ableitung Funktionen, Diff...</td>\n      <td>Da geht es unter anderem um Differenzenprozent...</td>\n      <td>11, Ableitung, Differenzieren, Ableiten, Diffe...</td>\n      <td>{'start': 13, 'end': 56, 'id': 'https://www.yo...</td>\n      <td>NaN</td>\n      <td>NaN</td>\n      <td>NaN</td>\n    </tr>\n    <tr>\n      <th>3</th>\n      <td>Ableiten Übersicht, Ableitung Funktionen, Diff...</td>\n      <td>Da wird so die Einstimmung gemacht zu dem ganz...</td>\n      <td>Ableitung, Differenzieren, 11, Differenziation...</td>\n      <td>{'start': 19, 'end': 62, 'id': 'https://www.yo...</td>\n      <td>NaN</td>\n      <td>NaN</td>\n      <td>NaN</td>\n    </tr>\n    <tr>\n      <th>4</th>\n      <td>Ableiten Übersicht, Ableitung Funktionen, Diff...</td>\n      <td>Und jetzt kommt es darauf an, ob ihr in der Un...</td>\n      <td>Differenzieren, Ableitung, Ableiten, Differenz...</td>\n      <td>{'start': 26, 'end': 67, 'id': 'https://www.yo...</td>\n      <td>NaN</td>\n      <td>NaN</td>\n      <td>NaN</td>\n    </tr>\n  </tbody>\n</table>\n</div>"
     },
     "execution_count": 2,
     "metadata": {},
     "output_type": "execute_result"
    }
   ],
   "source": [
    "\"\"\" Read sentence-level library \"\"\"\n",
    "sentences = pd.read_excel(\"sentences.xlsx\")\n",
    "sentences.head()"
   ],
   "metadata": {
    "collapsed": false
   }
  },
  {
   "cell_type": "code",
   "execution_count": 3,
   "outputs": [
    {
     "name": "stdout",
     "output_type": "stream",
     "text": [
      "5HnoTT7so8w\n"
     ]
    },
    {
     "data": {
      "text/plain": "            Id                                               Name\n0  5HnoTT7so8w  Ableiten Übersicht, Ableitung Funktionen, Diff...\n1  5HnoTT7so8w  Ableiten Übersicht, Ableitung Funktionen, Diff...\n2  5HnoTT7so8w  Ableiten Übersicht, Ableitung Funktionen, Diff...\n3  5HnoTT7so8w  Ableiten Übersicht, Ableitung Funktionen, Diff...\n4  5HnoTT7so8w  Ableiten Übersicht, Ableitung Funktionen, Diff...",
      "text/html": "<div>\n<style scoped>\n    .dataframe tbody tr th:only-of-type {\n        vertical-align: middle;\n    }\n\n    .dataframe tbody tr th {\n        vertical-align: top;\n    }\n\n    .dataframe thead th {\n        text-align: right;\n    }\n</style>\n<table border=\"1\" class=\"dataframe\">\n  <thead>\n    <tr style=\"text-align: right;\">\n      <th></th>\n      <th>Id</th>\n      <th>Name</th>\n    </tr>\n  </thead>\n  <tbody>\n    <tr>\n      <th>0</th>\n      <td>5HnoTT7so8w</td>\n      <td>Ableiten Übersicht, Ableitung Funktionen, Diff...</td>\n    </tr>\n    <tr>\n      <th>1</th>\n      <td>5HnoTT7so8w</td>\n      <td>Ableiten Übersicht, Ableitung Funktionen, Diff...</td>\n    </tr>\n    <tr>\n      <th>2</th>\n      <td>5HnoTT7so8w</td>\n      <td>Ableiten Übersicht, Ableitung Funktionen, Diff...</td>\n    </tr>\n    <tr>\n      <th>3</th>\n      <td>5HnoTT7so8w</td>\n      <td>Ableiten Übersicht, Ableitung Funktionen, Diff...</td>\n    </tr>\n    <tr>\n      <th>4</th>\n      <td>5HnoTT7so8w</td>\n      <td>Ableiten Übersicht, Ableitung Funktionen, Diff...</td>\n    </tr>\n  </tbody>\n</table>\n</div>"
     },
     "execution_count": 3,
     "metadata": {},
     "output_type": "execute_result"
    }
   ],
   "source": [
    "\"\"\" Equip sentences with unique video id \"\"\"\n",
    "def parse_url(metadata: str):\n",
    "    # Get url from metadata dict\n",
    "    return ast.literal_eval(metadata)[\"id\"]\n",
    "\n",
    "def parse_id(url: str):\n",
    "    # parse id from youtube url\n",
    "    parse_result = urlparse(url)\n",
    "    query_params = parse_qs(parse_result.query)\n",
    "    return query_params[\"v\"][0]\n",
    "\n",
    "print(parse_id(\"https://www.youtube.com/watch?v=5HnoTT7so8w&t=0s\"))\n",
    "\n",
    "sentences[\"Id\"] = sentences[\"Metadata\"].apply(lambda metadata: parse_id(parse_url(metadata)))\n",
    "sentences[[\"Id\", \"Name\"]].head()"
   ],
   "metadata": {
    "collapsed": false
   }
  },
  {
   "cell_type": "code",
   "execution_count": 4,
   "outputs": [
    {
     "data": {
      "text/plain": "                                                          Name  \\\nId                                                               \n-1ecuhQJwNU  Graph zur Ableitung und Stammfunktion | Mathe ...   \n-AyUqLeTtrE  Tangente, Tangentengleichung aufstellen mittel...   \n-PqSWya_6Vw  Ableitung Implizite Gleichung | Mathe by Danie...   \n-TZPuJaJV1A  Funktionen, E(x) Versionen, Wirtschaftsanwendu...   \n-fk6qn0c_Jk  Monotonie, Krümmung bei Funktionen, Übersicht ...   \n\n                                                       Content  \\\nId                                                               \n-1ecuhQJwNU  So der Graph der Ableitung und der Stammfunkti...   \n-AyUqLeTtrE  Aufstellen von Tangentengleichungen.\\nNicht ga...   \n-PqSWya_6Vw  Nehmen wir nochmal einen Ausdruck einer Gleich...   \n-TZPuJaJV1A  Da habe ich entsprechend jeweils eine Playlist...   \n-fk6qn0c_Jk  Hier ist wieder so ein faszinierendes Beispiel...   \n\n                                                          Tags  \\\nId                                                               \n-1ecuhQJwNU  Differenzieren, Differentiation, Differenziati...   \n-AyUqLeTtrE  Bausteine allgemein+Sachzusammenhang, Kurvendi...   \n-PqSWya_6Vw  Differenziation, Ableitung, Ableiten, Differen...   \n-TZPuJaJV1A  base, Polynomfunktionen, Analysis, Ganzrationa...   \n-fk6qn0c_Jk  base, Polynomfunktionen, Ganzrationale Funktio...   \n\n                                                      Metadata  \nId                                                              \n-1ecuhQJwNU  {'start': 0, 'end': 46, 'id': 'https://www.you...  \n-AyUqLeTtrE  {'start': 0, 'end': 43, 'id': 'https://www.you...  \n-PqSWya_6Vw  {'start': 0, 'end': 52, 'id': 'https://www.you...  \n-TZPuJaJV1A  {'start': 11, 'end': 65, 'id': 'https://www.yo...  \n-fk6qn0c_Jk  {'start': 1, 'end': 23, 'id': 'https://www.you...  ",
      "text/html": "<div>\n<style scoped>\n    .dataframe tbody tr th:only-of-type {\n        vertical-align: middle;\n    }\n\n    .dataframe tbody tr th {\n        vertical-align: top;\n    }\n\n    .dataframe thead th {\n        text-align: right;\n    }\n</style>\n<table border=\"1\" class=\"dataframe\">\n  <thead>\n    <tr style=\"text-align: right;\">\n      <th></th>\n      <th>Name</th>\n      <th>Content</th>\n      <th>Tags</th>\n      <th>Metadata</th>\n    </tr>\n    <tr>\n      <th>Id</th>\n      <th></th>\n      <th></th>\n      <th></th>\n      <th></th>\n    </tr>\n  </thead>\n  <tbody>\n    <tr>\n      <th>-1ecuhQJwNU</th>\n      <td>Graph zur Ableitung und Stammfunktion | Mathe ...</td>\n      <td>So der Graph der Ableitung und der Stammfunkti...</td>\n      <td>Differenzieren, Differentiation, Differenziati...</td>\n      <td>{'start': 0, 'end': 46, 'id': 'https://www.you...</td>\n    </tr>\n    <tr>\n      <th>-AyUqLeTtrE</th>\n      <td>Tangente, Tangentengleichung aufstellen mittel...</td>\n      <td>Aufstellen von Tangentengleichungen.\\nNicht ga...</td>\n      <td>Bausteine allgemein+Sachzusammenhang, Kurvendi...</td>\n      <td>{'start': 0, 'end': 43, 'id': 'https://www.you...</td>\n    </tr>\n    <tr>\n      <th>-PqSWya_6Vw</th>\n      <td>Ableitung Implizite Gleichung | Mathe by Danie...</td>\n      <td>Nehmen wir nochmal einen Ausdruck einer Gleich...</td>\n      <td>Differenziation, Ableitung, Ableiten, Differen...</td>\n      <td>{'start': 0, 'end': 52, 'id': 'https://www.you...</td>\n    </tr>\n    <tr>\n      <th>-TZPuJaJV1A</th>\n      <td>Funktionen, E(x) Versionen, Wirtschaftsanwendu...</td>\n      <td>Da habe ich entsprechend jeweils eine Playlist...</td>\n      <td>base, Polynomfunktionen, Analysis, Ganzrationa...</td>\n      <td>{'start': 11, 'end': 65, 'id': 'https://www.yo...</td>\n    </tr>\n    <tr>\n      <th>-fk6qn0c_Jk</th>\n      <td>Monotonie, Krümmung bei Funktionen, Übersicht ...</td>\n      <td>Hier ist wieder so ein faszinierendes Beispiel...</td>\n      <td>base, Polynomfunktionen, Ganzrationale Funktio...</td>\n      <td>{'start': 1, 'end': 23, 'id': 'https://www.you...</td>\n    </tr>\n  </tbody>\n</table>\n</div>"
     },
     "execution_count": 4,
     "metadata": {},
     "output_type": "execute_result"
    }
   ],
   "source": [
    "\"\"\" Join all sentences belonging to the same video on new lines \"\"\"\n",
    "transcripts = sentences.groupby(\"Id\").agg({\n",
    "    \"Name\": lambda names: commonprefix(list(names))[:-1],\n",
    "    \"Content\": \"\\n\".join,\n",
    "    \"Tags\": \"first\",\n",
    "    \"Metadata\": \"first\"\n",
    "})\n",
    "transcripts.head()"
   ],
   "metadata": {
    "collapsed": false
   }
  },
  {
   "cell_type": "code",
   "execution_count": 5,
   "outputs": [],
   "source": [
    "\"\"\" Clean the resulting data and tag the entries appropriately \"\"\"\n",
    "def delete_video_positions(metadata: str):\n",
    "    dct = ast.literal_eval(metadata)\n",
    "    del dct[\"start\"]\n",
    "    del dct[\"end\"]\n",
    "    return str(dct)\n",
    "\n",
    "transcripts[\"Metadata\"] = transcripts[\"Metadata\"].apply(delete_video_positions)\n",
    "\n",
    "transcripts[\"Tags\"] = transcripts[\"Tags\"].apply(lambda tags: \"TRANSCRIPT_LEVEL, \" + tags)\n",
    "sentences[\"Tags\"] = sentences[\"Tags\"].apply(lambda tags: \"SENTENCE_LEVEL, \" + tags)"
   ],
   "metadata": {
    "collapsed": false
   }
  },
  {
   "cell_type": "code",
   "execution_count": 6,
   "outputs": [
    {
     "data": {
      "text/plain": "                                                    Name  \\\n0      Graph zur Ableitung und Stammfunktion | Mathe ...   \n1      Tangente, Tangentengleichung aufstellen mittel...   \n2      Ableitung Implizite Gleichung | Mathe by Danie...   \n3      Funktionen, E(x) Versionen, Wirtschaftsanwendu...   \n4      Monotonie, Krümmung bei Funktionen, Übersicht ...   \n...                                                  ...   \n17392    Punkt und Koordinaten | Mathe by Daniel Jung_42   \n17393    Punkt und Koordinaten | Mathe by Daniel Jung_43   \n17394    Punkt und Koordinaten | Mathe by Daniel Jung_44   \n17395    Punkt und Koordinaten | Mathe by Daniel Jung_45   \n17396    Punkt und Koordinaten | Mathe by Daniel Jung_46   \n\n                                                 Content  \\\n0      So der Graph der Ableitung und der Stammfunkti...   \n1      Aufstellen von Tangentengleichungen.\\nNicht ga...   \n2      Nehmen wir nochmal einen Ausdruck einer Gleich...   \n3      Da habe ich entsprechend jeweils eine Playlist...   \n4      Hier ist wieder so ein faszinierendes Beispiel...   \n...                                                  ...   \n17392  Deshalb gut zu wissen, was ist überhaupt ein P...   \n17393  Und wenn man noch weiter in die Tiefe will, vo...   \n17394  Und ansonsten müsstet ihr hiermit gut durchkom...   \n17395  Ihr wisst, wenn doch noch irgendetwas ist, wen...   \n17396  dort könnt ihr immer eure Fragen posten und es...   \n\n                                                    Tags  \\\n0      TRANSCRIPT_LEVEL, Differenzieren, Differentiat...   \n1      TRANSCRIPT_LEVEL, Bausteine allgemein+Sachzusa...   \n2      TRANSCRIPT_LEVEL, Differenziation, Ableitung, ...   \n3      TRANSCRIPT_LEVEL, base, Polynomfunktionen, Ana...   \n4      TRANSCRIPT_LEVEL, base, Polynomfunktionen, Gan...   \n...                                                  ...   \n17392  SENTENCE_LEVEL, Funktionsarten, Funktionstypen...   \n17393  SENTENCE_LEVEL, Funktionen Übersicht, base, Fu...   \n17394  SENTENCE_LEVEL, Funktionen Übersicht, Funktion...   \n17395  SENTENCE_LEVEL, Funktionen Übersicht, base, Fu...   \n17396  SENTENCE_LEVEL, Funktionen Übersicht, Funktion...   \n\n                                                Metadata  Context  Color  \\\n0      {'id': 'https://www.youtube.com/watch?v=-1ecuh...      NaN    NaN   \n1      {'id': 'https://www.youtube.com/watch?v=-AyUqL...      NaN    NaN   \n2      {'id': 'https://www.youtube.com/watch?v=-PqSWy...      NaN    NaN   \n3      {'id': 'https://www.youtube.com/watch?v=-TZPuJ...      NaN    NaN   \n4      {'id': 'https://www.youtube.com/watch?v=-fk6qn...      NaN    NaN   \n...                                                  ...      ...    ...   \n17392  {'start': 216, 'end': 246, 'id': 'https://www....      NaN    NaN   \n17393  {'start': 220, 'end': 246, 'id': 'https://www....      NaN    NaN   \n17394  {'start': 230, 'end': 246, 'id': 'https://www....      NaN    NaN   \n17395  {'start': 233, 'end': 246, 'id': 'https://www....      NaN    NaN   \n17396  {'start': 238, 'end': 246, 'id': 'https://www....      NaN    NaN   \n\n       Comment  \n0          NaN  \n1          NaN  \n2          NaN  \n3          NaN  \n4          NaN  \n...        ...  \n17392      NaN  \n17393      NaN  \n17394      NaN  \n17395      NaN  \n17396      NaN  \n\n[17397 rows x 7 columns]",
      "text/html": "<div>\n<style scoped>\n    .dataframe tbody tr th:only-of-type {\n        vertical-align: middle;\n    }\n\n    .dataframe tbody tr th {\n        vertical-align: top;\n    }\n\n    .dataframe thead th {\n        text-align: right;\n    }\n</style>\n<table border=\"1\" class=\"dataframe\">\n  <thead>\n    <tr style=\"text-align: right;\">\n      <th></th>\n      <th>Name</th>\n      <th>Content</th>\n      <th>Tags</th>\n      <th>Metadata</th>\n      <th>Context</th>\n      <th>Color</th>\n      <th>Comment</th>\n    </tr>\n  </thead>\n  <tbody>\n    <tr>\n      <th>0</th>\n      <td>Graph zur Ableitung und Stammfunktion | Mathe ...</td>\n      <td>So der Graph der Ableitung und der Stammfunkti...</td>\n      <td>TRANSCRIPT_LEVEL, Differenzieren, Differentiat...</td>\n      <td>{'id': 'https://www.youtube.com/watch?v=-1ecuh...</td>\n      <td>NaN</td>\n      <td>NaN</td>\n      <td>NaN</td>\n    </tr>\n    <tr>\n      <th>1</th>\n      <td>Tangente, Tangentengleichung aufstellen mittel...</td>\n      <td>Aufstellen von Tangentengleichungen.\\nNicht ga...</td>\n      <td>TRANSCRIPT_LEVEL, Bausteine allgemein+Sachzusa...</td>\n      <td>{'id': 'https://www.youtube.com/watch?v=-AyUqL...</td>\n      <td>NaN</td>\n      <td>NaN</td>\n      <td>NaN</td>\n    </tr>\n    <tr>\n      <th>2</th>\n      <td>Ableitung Implizite Gleichung | Mathe by Danie...</td>\n      <td>Nehmen wir nochmal einen Ausdruck einer Gleich...</td>\n      <td>TRANSCRIPT_LEVEL, Differenziation, Ableitung, ...</td>\n      <td>{'id': 'https://www.youtube.com/watch?v=-PqSWy...</td>\n      <td>NaN</td>\n      <td>NaN</td>\n      <td>NaN</td>\n    </tr>\n    <tr>\n      <th>3</th>\n      <td>Funktionen, E(x) Versionen, Wirtschaftsanwendu...</td>\n      <td>Da habe ich entsprechend jeweils eine Playlist...</td>\n      <td>TRANSCRIPT_LEVEL, base, Polynomfunktionen, Ana...</td>\n      <td>{'id': 'https://www.youtube.com/watch?v=-TZPuJ...</td>\n      <td>NaN</td>\n      <td>NaN</td>\n      <td>NaN</td>\n    </tr>\n    <tr>\n      <th>4</th>\n      <td>Monotonie, Krümmung bei Funktionen, Übersicht ...</td>\n      <td>Hier ist wieder so ein faszinierendes Beispiel...</td>\n      <td>TRANSCRIPT_LEVEL, base, Polynomfunktionen, Gan...</td>\n      <td>{'id': 'https://www.youtube.com/watch?v=-fk6qn...</td>\n      <td>NaN</td>\n      <td>NaN</td>\n      <td>NaN</td>\n    </tr>\n    <tr>\n      <th>...</th>\n      <td>...</td>\n      <td>...</td>\n      <td>...</td>\n      <td>...</td>\n      <td>...</td>\n      <td>...</td>\n      <td>...</td>\n    </tr>\n    <tr>\n      <th>17392</th>\n      <td>Punkt und Koordinaten | Mathe by Daniel Jung_42</td>\n      <td>Deshalb gut zu wissen, was ist überhaupt ein P...</td>\n      <td>SENTENCE_LEVEL, Funktionsarten, Funktionstypen...</td>\n      <td>{'start': 216, 'end': 246, 'id': 'https://www....</td>\n      <td>NaN</td>\n      <td>NaN</td>\n      <td>NaN</td>\n    </tr>\n    <tr>\n      <th>17393</th>\n      <td>Punkt und Koordinaten | Mathe by Daniel Jung_43</td>\n      <td>Und wenn man noch weiter in die Tiefe will, vo...</td>\n      <td>SENTENCE_LEVEL, Funktionen Übersicht, base, Fu...</td>\n      <td>{'start': 220, 'end': 246, 'id': 'https://www....</td>\n      <td>NaN</td>\n      <td>NaN</td>\n      <td>NaN</td>\n    </tr>\n    <tr>\n      <th>17394</th>\n      <td>Punkt und Koordinaten | Mathe by Daniel Jung_44</td>\n      <td>Und ansonsten müsstet ihr hiermit gut durchkom...</td>\n      <td>SENTENCE_LEVEL, Funktionen Übersicht, Funktion...</td>\n      <td>{'start': 230, 'end': 246, 'id': 'https://www....</td>\n      <td>NaN</td>\n      <td>NaN</td>\n      <td>NaN</td>\n    </tr>\n    <tr>\n      <th>17395</th>\n      <td>Punkt und Koordinaten | Mathe by Daniel Jung_45</td>\n      <td>Ihr wisst, wenn doch noch irgendetwas ist, wen...</td>\n      <td>SENTENCE_LEVEL, Funktionen Übersicht, base, Fu...</td>\n      <td>{'start': 233, 'end': 246, 'id': 'https://www....</td>\n      <td>NaN</td>\n      <td>NaN</td>\n      <td>NaN</td>\n    </tr>\n    <tr>\n      <th>17396</th>\n      <td>Punkt und Koordinaten | Mathe by Daniel Jung_46</td>\n      <td>dort könnt ihr immer eure Fragen posten und es...</td>\n      <td>SENTENCE_LEVEL, Funktionen Übersicht, Funktion...</td>\n      <td>{'start': 238, 'end': 246, 'id': 'https://www....</td>\n      <td>NaN</td>\n      <td>NaN</td>\n      <td>NaN</td>\n    </tr>\n  </tbody>\n</table>\n<p>17397 rows × 7 columns</p>\n</div>"
     },
     "metadata": {},
     "output_type": "display_data"
    }
   ],
   "source": [
    "\"\"\" Merge the two libraries and dump the result to an xlsx file \"\"\"\n",
    "multi_level_library = pd.concat([transcripts, sentences]).reset_index(drop=True).drop(\"Id\", axis=1)\n",
    "display(multi_level_library)\n",
    "\n",
    "multi_level_library.to_excel(\"transcripts_and_sentences.xlsx\")"
   ],
   "metadata": {
    "collapsed": false
   }
  }
 ],
 "metadata": {
  "kernelspec": {
   "display_name": "Python 3",
   "language": "python",
   "name": "python3"
  },
  "language_info": {
   "codemirror_mode": {
    "name": "ipython",
    "version": 2
   },
   "file_extension": ".py",
   "mimetype": "text/x-python",
   "name": "python",
   "nbconvert_exporter": "python",
   "pygments_lexer": "ipython2",
   "version": "2.7.6"
  }
 },
 "nbformat": 4,
 "nbformat_minor": 0
}
